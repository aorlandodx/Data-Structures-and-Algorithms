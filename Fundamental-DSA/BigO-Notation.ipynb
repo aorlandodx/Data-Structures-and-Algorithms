{
 "cells": [
  {
   "cell_type": "markdown",
   "id": "81be506e",
   "metadata": {},
   "source": [
    "# Algorithmic complexity and BigO notation\n",
    "This Notebook explains the BigO notation and its application to analyze programming algorithms.\n",
    "Created by Angel Peña on Jul 8, 2025."
   ]
  },
  {
   "cell_type": "markdown",
   "id": "b56d632f",
   "metadata": {},
   "source": [
    "## What is the algorithmic complexity?\n",
    "The comlexity measures the resources (space and time) which an algorithm consumes in function of the input (*n*).\n",
    "The BigO notation describes the asymptotic behavior of the execution time or the memory usage.\n",
    "\n",
    "For example:\n",
    "- 0(1): constant time\n",
    "- 0(log n): logarithmic time\n",
    "- 0(n): linear time\n",
    "- 0(n log n): log-linear time\n",
    "- 0(n^2): quadratic time"
   ]
  }
 ],
 "metadata": {
  "kernelspec": {
   "display_name": "base",
   "language": "python",
   "name": "python3"
  },
  "language_info": {
   "codemirror_mode": {
    "name": "ipython",
    "version": 3
   },
   "file_extension": ".py",
   "mimetype": "text/x-python",
   "name": "python",
   "nbconvert_exporter": "python",
   "pygments_lexer": "ipython3",
   "version": "3.13.2"
  }
 },
 "nbformat": 4,
 "nbformat_minor": 5
}
